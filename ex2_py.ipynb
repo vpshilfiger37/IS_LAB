{
  "nbformat": 4,
  "nbformat_minor": 0,
  "metadata": {
    "colab": {
      "provenance": [],
      "authorship_tag": "ABX9TyPSNstLQyEGlt1W0oXqX6Su",
      "include_colab_link": true
    },
    "kernelspec": {
      "name": "python3",
      "display_name": "Python 3"
    },
    "language_info": {
      "name": "python"
    }
  },
  "cells": [
    {
      "cell_type": "markdown",
      "metadata": {
        "id": "view-in-github",
        "colab_type": "text"
      },
      "source": [
        "<a href=\"https://colab.research.google.com/github/vpshilfiger37/IS_LAB/blob/main/ex2_py.ipynb\" target=\"_parent\"><img src=\"https://colab.research.google.com/assets/colab-badge.svg\" alt=\"Open In Colab\"/></a>"
      ]
    },
    {
      "cell_type": "markdown",
      "source": [
        "Implementation of Integrity"
      ],
      "metadata": {
        "id": "K3kJZfEKBKAv"
      }
    },
    {
      "cell_type": "code",
      "execution_count": 1,
      "metadata": {
        "colab": {
          "base_uri": "https://localhost:8080/"
        },
        "id": "MH4rQUOWA7cj",
        "outputId": "e92786c0-4f8c-4bd4-b0da-87b3e37bfba4"
      },
      "outputs": [
        {
          "output_type": "stream",
          "name": "stdout",
          "text": [
            "Enter a string:\n",
            "ghi\n",
            "The byte equivalent of hash is: b'\\x82k\\xbc]\\x05\"\\xf5\\xf2\\n\\x1d\\xa4\\xb6\\x0f\\xa8\\xc8q'\n",
            "The hexadecimal hash is: 826bbc5d0522f5f20a1da4b60fa8c871\n",
            "The available algorithms are: {'md5', 'blake2s', 'sha3_256', 'shake_128', 'sha384', 'sha1', 'blake2b', 'sha3_512', 'sha3_224', 'shake_256', 'sha3_384', 'sha512', 'sha256', 'sha224'}\n"
          ]
        }
      ],
      "source": [
        "import hashlib\n",
        "\n",
        "def compute_md5_hash():\n",
        "    text = input(\"Enter a string:\\n\")\n",
        "    result = hashlib.md5(text.encode())\n",
        "    print(\"The byte equivalent of hash is:\", result.digest())\n",
        "    print(\"The hexadecimal hash is:\", result.hexdigest())\n",
        "\n",
        "def display_algorithms():\n",
        "    print(\"The available algorithms are:\", hashlib.algorithms_guaranteed)\n",
        "\n",
        "def main():\n",
        "    compute_md5_hash()\n",
        "    display_algorithms()\n",
        "\n",
        "if __name__ == \"__main__\":\n",
        "    main()"
      ]
    }
  ]
}