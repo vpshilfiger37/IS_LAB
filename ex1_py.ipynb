{
  "nbformat": 4,
  "nbformat_minor": 0,
  "metadata": {
    "colab": {
      "provenance": [],
      "authorship_tag": "ABX9TyOA7EzEu+MYQjg/1Ry4IQDt",
      "include_colab_link": true
    },
    "kernelspec": {
      "name": "python3",
      "display_name": "Python 3"
    },
    "language_info": {
      "name": "python"
    }
  },
  "cells": [
    {
      "cell_type": "markdown",
      "metadata": {
        "id": "view-in-github",
        "colab_type": "text"
      },
      "source": [
        "<a href=\"https://colab.research.google.com/github/vpshilfiger37/IS_LAB/blob/main/ex1_py.ipynb\" target=\"_parent\"><img src=\"https://colab.research.google.com/assets/colab-badge.svg\" alt=\"Open In Colab\"/></a>"
      ]
    },
    {
      "cell_type": "markdown",
      "source": [
        "Implementation of Confidentality"
      ],
      "metadata": {
        "id": "ZyA3W2Le97FU"
      }
    },
    {
      "cell_type": "code",
      "execution_count": null,
      "metadata": {
        "id": "ctTC8om-7LQT"
      },
      "outputs": [],
      "source": [
        "import sys\n",
        "\n",
        "def encrypt():\n",
        "    text = input(\"\\t\\tInput String: \")\n",
        "    encrypted_text = ''.join(chr(ord(char) + 3) for char in text)\n",
        "    print(\"\\n\\t\\tEncrypted String:\", encrypted_text)\n",
        "\n",
        "def decrypt():\n",
        "    text = input(\"\\t\\tInput String: \")\n",
        "    decrypted_text = ''.join(chr(ord(char) - 3) for char in text)\n",
        "    print(\"\\n\\t\\tDecrypted String:\", decrypted_text)\n",
        "\n",
        "def main():\n",
        "    print(\"\\t\\tConfidentiality\\n\")\n",
        "    while True:\n",
        "        print(\"\\t\\tChoose operation\\n\\t\\t1. Encryption\\n\\t\\t2. Decryption\\n\\t\\t3. Exit\\n\")\n",
        "        try:\n",
        "            choice = input(\"\\t\\tEnter choice: \")\n",
        "            if choice == '1':\n",
        "                encrypt()\n",
        "            elif choice == '2':\n",
        "                decrypt()\n",
        "            elif choice == '3':\n",
        "                print(\"\\t\\tExiting...\")\n",
        "                break\n",
        "            else:\n",
        "                print(\"\\t\\tInvalid choice! Try again.\")\n",
        "        except EOFError:\n",
        "            print(\"\\t\\tInput error detected. Exiting...\")\n",
        "            sys.exit(1)\n",
        "        cont = input(\"\\n\\t\\tDo you want to continue (Y/N): \").strip().lower()\n",
        "        if cont != 'y':\n",
        "            break\n",
        "\n",
        "if __name__ == \"__main__\":\n",
        "    main()\n"
      ]
    }
  ]
}