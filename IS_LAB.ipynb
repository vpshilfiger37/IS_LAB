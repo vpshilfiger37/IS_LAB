{
  "nbformat": 4,
  "nbformat_minor": 0,
  "metadata": {
    "colab": {
      "provenance": [],
      "authorship_tag": "ABX9TyP5ACNkYQyvSLj9Rm3XyIv+",
      "include_colab_link": true
    },
    "kernelspec": {
      "name": "python3",
      "display_name": "Python 3"
    },
    "language_info": {
      "name": "python"
    }
  },
  "cells": [
    {
      "cell_type": "markdown",
      "metadata": {
        "id": "view-in-github",
        "colab_type": "text"
      },
      "source": [
        "<a href=\"https://colab.research.google.com/github/vpshilfiger37/IS_LAB/blob/main/IS_LAB.ipynb\" target=\"_parent\"><img src=\"https://colab.research.google.com/assets/colab-badge.svg\" alt=\"Open In Colab\"/></a>"
      ]
    },
    {
      "cell_type": "markdown",
      "source": [
        "Implementation of Confidentality"
      ],
      "metadata": {
        "id": "ZyA3W2Le97FU"
      }
    },
    {
      "cell_type": "code",
      "execution_count": null,
      "metadata": {
        "id": "ctTC8om-7LQT"
      },
      "outputs": [],
      "source": [
        "import sys\n",
        "\n",
        "def encrypt():\n",
        "    text = input(\"\\t\\tInput String: \")\n",
        "    encrypted_text = ''.join(chr(ord(char) + 3) for char in text)\n",
        "    print(\"\\n\\t\\tEncrypted String:\", encrypted_text)\n",
        "\n",
        "def decrypt():\n",
        "    text = input(\"\\t\\tInput String: \")\n",
        "    decrypted_text = ''.join(chr(ord(char) - 3) for char in text)\n",
        "    print(\"\\n\\t\\tDecrypted String:\", decrypted_text)\n",
        "\n",
        "def main():\n",
        "    print(\"\\t\\tConfidentiality\\n\")\n",
        "    while True:\n",
        "        print(\"\\t\\tChoose operation\\n\\t\\t1. Encryption\\n\\t\\t2. Decryption\\n\\t\\t3. Exit\\n\")\n",
        "        try:\n",
        "            choice = input(\"\\t\\tEnter choice: \")\n",
        "            if choice == '1':\n",
        "                encrypt()\n",
        "            elif choice == '2':\n",
        "                decrypt()\n",
        "            elif choice == '3':\n",
        "                print(\"\\t\\tExiting...\")\n",
        "                break\n",
        "            else:\n",
        "                print(\"\\t\\tInvalid choice! Try again.\")\n",
        "        except EOFError:\n",
        "            print(\"\\t\\tInput error detected. Exiting...\")\n",
        "            sys.exit(1)\n",
        "        cont = input(\"\\n\\t\\tDo you want to continue (Y/N): \").strip().lower()\n",
        "        if cont != 'y':\n",
        "            break\n",
        "\n",
        "if __name__ == \"__main__\":\n",
        "    main()\n"
      ]
    },
    {
      "cell_type": "markdown",
      "source": [
        "Implementation of Integrity"
      ],
      "metadata": {
        "id": "TtvQ97ay-MDX"
      }
    },
    {
      "cell_type": "code",
      "source": [
        "import hashlib\n",
        "\n",
        "def compute_md5_hash():\n",
        "    text = input(\"Enter a string:\\n\")\n",
        "    result = hashlib.md5(text.encode())\n",
        "    print(\"The byte equivalent of hash is:\", result.digest())\n",
        "    print(\"The hexadecimal hash is:\", result.hexdigest())\n",
        "\n",
        "def display_algorithms():\n",
        "    print(\"The available algorithms are:\", hashlib.algorithms_guaranteed)\n",
        "\n",
        "def main():\n",
        "    compute_md5_hash()\n",
        "    display_algorithms()\n",
        "\n",
        "if __name__ == \"__main__\":\n",
        "    main()"
      ],
      "metadata": {
        "colab": {
          "base_uri": "https://localhost:8080/"
        },
        "id": "VTYBcihx-PGq",
        "outputId": "743bcb05-f897-4c04-f170-0bacc3a54fae"
      },
      "execution_count": 8,
      "outputs": [
        {
          "output_type": "stream",
          "name": "stdout",
          "text": [
            "Enter a string:\n",
            "integrity\n",
            "The byte equivalent of hash is: b'\\x16G1t\\x7f\\xc7#my\\x9eX\\x8f`\\xef\\xbb\\xe7'\n",
            "The hexadecimal hash is: 164731747fc7236d799e588f60efbbe7\n",
            "The available algorithms are: {'sha3_512', 'shake_256', 'sha384', 'blake2b', 'sha3_256', 'sha3_224', 'sha1', 'md5', 'blake2s', 'sha3_384', 'sha224', 'shake_128', 'sha512', 'sha256'}\n"
          ]
        }
      ]
    }
  ]
}